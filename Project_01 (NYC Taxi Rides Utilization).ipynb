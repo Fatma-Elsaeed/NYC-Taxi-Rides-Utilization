{
  "nbformat": 4,
  "nbformat_minor": 0,
  "metadata": {
    "language_info": {
      "name": "python"
    },
    "kernelspec": {
      "display_name": "Python 3",
      "name": "python3"
    },
    "application/vnd.databricks.v1+notebook": {
      "notebookName": "Project_01",
      "dashboards": [],
      "notebookMetadata": {
        "pythonIndentUnit": 2
      },
      "language": "python",
      "widgets": {},
      "notebookOrigID": 587850325319451
    },
    "colab": {
      "name": "Project_01.ipynb",
      "provenance": [],
      "collapsed_sections": []
    },
    "accelerator": "GPU"
  },
  "cells": [
    {
      "cell_type": "code",
      "metadata": {
        "colab": {
          "base_uri": "https://localhost:8080/"
        },
        "id": "qcUyNzhjk6sw",
        "outputId": "60dc8f16-094c-426e-9295-c8fde536f49b"
      },
      "source": [
        "from google.colab import drive\n",
        "drive.mount('/content/drive')"
      ],
      "execution_count": 1,
      "outputs": [
        {
          "output_type": "stream",
          "text": [
            "Drive already mounted at /content/drive; to attempt to forcibly remount, call drive.mount(\"/content/drive\", force_remount=True).\n"
          ],
          "name": "stdout"
        }
      ]
    },
    {
      "cell_type": "markdown",
      "metadata": {
        "id": "daNstzuNFbbi"
      },
      "source": [
        "# App Initialization"
      ]
    },
    {
      "cell_type": "markdown",
      "metadata": {
        "id": "v4a139_nFsGB"
      },
      "source": [
        "## Install the needed packages"
      ]
    },
    {
      "cell_type": "code",
      "metadata": {
        "colab": {
          "base_uri": "https://localhost:8080/"
        },
        "id": "1PLR-ApDk10R",
        "outputId": "43768bdc-1bf0-4415-8136-1dc6a43b2fd7"
      },
      "source": [
        "pip install pyspark"
      ],
      "execution_count": 2,
      "outputs": [
        {
          "output_type": "stream",
          "text": [
            "Requirement already satisfied: pyspark in /usr/local/lib/python3.7/dist-packages (3.1.1)\n",
            "Requirement already satisfied: py4j==0.10.9 in /usr/local/lib/python3.7/dist-packages (from pyspark) (0.10.9)\n"
          ],
          "name": "stdout"
        }
      ]
    },
    {
      "cell_type": "code",
      "metadata": {
        "application/vnd.databricks.v1+cell": {
          "title": "",
          "showTitle": false,
          "inputWidgets": {},
          "nuid": "56b206c9-9c22-472c-b061-89a64bcceada"
        },
        "colab": {
          "base_uri": "https://localhost:8080/"
        },
        "id": "E19NMMhbkvdS",
        "outputId": "c70a5089-a542-4ccb-ed32-0606ae15b6cb"
      },
      "source": [
        "pip install shapely"
      ],
      "execution_count": 3,
      "outputs": [
        {
          "output_type": "stream",
          "text": [
            "Requirement already satisfied: shapely in /usr/local/lib/python3.7/dist-packages (1.7.1)\n"
          ],
          "name": "stdout"
        }
      ]
    },
    {
      "cell_type": "markdown",
      "metadata": {
        "id": "Jg5cBS_8Fw9X"
      },
      "source": [
        "## Import the needed packages"
      ]
    },
    {
      "cell_type": "code",
      "metadata": {
        "id": "gA4L_p0MeDiy",
        "application/vnd.databricks.v1+cell": {
          "title": "",
          "showTitle": false,
          "inputWidgets": {},
          "nuid": "cf4042e6-d872-40bb-a8d2-78c6161dbc60"
        }
      },
      "source": [
        "from shapely.geometry import Point, Polygon\n",
        "from pyspark.sql import SparkSession\n",
        "from pyspark.sql.functions import udf, lead, broadcast, from_utc_timestamp\n",
        "from pyspark.sql.window import Window\n",
        "#https://shapely.readthedocs.io/en/latest/manual.html"
      ],
      "execution_count": 4,
      "outputs": []
    },
    {
      "cell_type": "markdown",
      "metadata": {
        "id": "jH-C4ZHX9i5r"
      },
      "source": [
        "****"
      ]
    },
    {
      "cell_type": "markdown",
      "metadata": {
        "id": "TWe3bpY8BK8R"
      },
      "source": [
        "## Build a Spark application"
      ]
    },
    {
      "cell_type": "code",
      "metadata": {
        "id": "kNe1rzyWBH0s",
        "application/vnd.databricks.v1+cell": {
          "title": "",
          "showTitle": false,
          "inputWidgets": {},
          "nuid": "ac7dae06-6f8f-4735-bdfc-00a98a0af429"
        }
      },
      "source": [
        "spark = SparkSession \\\n",
        "    .builder \\\n",
        "    .appName(\"NYC Taxi Rides Utilization\") \\\n",
        "    .getOrCreate()"
      ],
      "execution_count": 5,
      "outputs": []
    },
    {
      "cell_type": "code",
      "metadata": {
        "colab": {
          "base_uri": "https://localhost:8080/",
          "height": 216
        },
        "id": "3DI2_ldfBO14",
        "application/vnd.databricks.v1+cell": {
          "title": "",
          "showTitle": false,
          "inputWidgets": {},
          "nuid": "8833dbba-8560-4c41-bfb0-36b246230de3"
        },
        "outputId": "0bab93b6-6584-45a4-fc18-a843ffc6d5fc"
      },
      "source": [
        "spark"
      ],
      "execution_count": 6,
      "outputs": [
        {
          "output_type": "execute_result",
          "data": {
            "text/html": [
              "\n",
              "            <div>\n",
              "                <p><b>SparkSession - in-memory</b></p>\n",
              "                \n",
              "        <div>\n",
              "            <p><b>SparkContext</b></p>\n",
              "\n",
              "            <p><a href=\"http://8f415c1a06e0:4040\">Spark UI</a></p>\n",
              "\n",
              "            <dl>\n",
              "              <dt>Version</dt>\n",
              "                <dd><code>v3.1.1</code></dd>\n",
              "              <dt>Master</dt>\n",
              "                <dd><code>local[*]</code></dd>\n",
              "              <dt>AppName</dt>\n",
              "                <dd><code>NYC Taxi Rides Utilization</code></dd>\n",
              "            </dl>\n",
              "        </div>\n",
              "        \n",
              "            </div>\n",
              "        "
            ],
            "text/plain": [
              "<pyspark.sql.session.SparkSession at 0x7fdd3a98f1d0>"
            ]
          },
          "metadata": {
            "tags": []
          },
          "execution_count": 6
        }
      ]
    },
    {
      "cell_type": "markdown",
      "metadata": {
        "id": "SLp-oBIpBSto"
      },
      "source": [
        "# Prepare the boroughs data"
      ]
    },
    {
      "cell_type": "markdown",
      "metadata": {
        "id": "JRi16gpGGD82"
      },
      "source": [
        "## Read the data"
      ]
    },
    {
      "cell_type": "code",
      "metadata": {
        "id": "26pwhMYkB8Jv",
        "application/vnd.databricks.v1+cell": {
          "title": "",
          "showTitle": false,
          "inputWidgets": {},
          "nuid": "d12472f1-cad0-4daf-89aa-f57f63584394"
        },
        "colab": {
          "base_uri": "https://localhost:8080/"
        },
        "outputId": "4e9b74c1-147c-4bcb-a1d8-253d798d6d08"
      },
      "source": [
        "boroughs = spark.read.json(\"/content/drive/MyDrive/CIT-652 - Advanced Big Data/Project 01 -  NYC Taxi Rides Utilization/nyc-boroughs.geojson\")\n",
        "#boroughs = spark.read.json(\"/FileStore/tables/nyc_boroughs.geojson\")\n",
        "boroughs.limit(5).show()"
      ],
      "execution_count": 7,
      "outputs": [
        {
          "output_type": "stream",
          "text": [
            "+--------------------+--------------------+----+--------------------+-------+\n",
            "|     _corrupt_record|            geometry|  id|          properties|   type|\n",
            "+--------------------+--------------------+----+--------------------+-------+\n",
            "|                   {|                null|null|                null|   null|\n",
            "|\"type\": \"FeatureC...|                null|null|                null|   null|\n",
            "|       \"features\": [|                null|null|                null|   null|\n",
            "|                null|{[[[-74.050508064...|   0|{http://nyc.pedia...|Feature|\n",
            "|                   ,|                null|null|                null|   null|\n",
            "+--------------------+--------------------+----+--------------------+-------+\n",
            "\n"
          ],
          "name": "stdout"
        }
      ]
    },
    {
      "cell_type": "code",
      "metadata": {
        "id": "9QTFdIt_CGqA",
        "application/vnd.databricks.v1+cell": {
          "title": "",
          "showTitle": false,
          "inputWidgets": {},
          "nuid": "e5fc0224-daf5-4d2f-a9c3-44db2636ac69"
        },
        "colab": {
          "base_uri": "https://localhost:8080/"
        },
        "outputId": "11b2a1f6-0f13-488a-fd3d-2ed7c7e51c27"
      },
      "source": [
        "boroughs = boroughs.drop('_corrupt_record','type').dropna()\n",
        "boroughs.limit(5).show(truncate=True)\n",
        "boroughs.printSchema"
      ],
      "execution_count": 8,
      "outputs": [
        {
          "output_type": "stream",
          "text": [
            "+--------------------+---+--------------------+\n",
            "|            geometry| id|          properties|\n",
            "+--------------------+---+--------------------+\n",
            "|{[[[-74.050508064...|  0|{http://nyc.pedia...|\n",
            "|{[[[-74.053140368...|  1|{http://nyc.pedia...|\n",
            "|{[[[-74.159456024...|  2|{http://nyc.pedia...|\n",
            "|{[[[-74.082212729...|  3|{http://nyc.pedia...|\n",
            "|{[[[-73.836682741...|  4|{http://nyc.pedia...|\n",
            "+--------------------+---+--------------------+\n",
            "\n"
          ],
          "name": "stdout"
        },
        {
          "output_type": "execute_result",
          "data": {
            "text/plain": [
              "<bound method DataFrame.printSchema of DataFrame[geometry: struct<coordinates:array<array<array<double>>>,type:string>, id: bigint, properties: struct<@id:string,borough:string,boroughCode:bigint>]>"
            ]
          },
          "metadata": {
            "tags": []
          },
          "execution_count": 8
        }
      ]
    },
    {
      "cell_type": "markdown",
      "metadata": {
        "id": "r9skU4oDBhrV"
      },
      "source": [
        "## Extract boroughs names and codes"
      ]
    },
    {
      "cell_type": "code",
      "metadata": {
        "id": "eWc2mNDnUw8l",
        "application/vnd.databricks.v1+cell": {
          "title": "",
          "showTitle": false,
          "inputWidgets": {},
          "nuid": "f2fd4398-bf65-414f-a41d-9164294e7a73"
        },
        "colab": {
          "base_uri": "https://localhost:8080/"
        },
        "outputId": "f1b25c87-2191-41b2-c06a-85381d1fa6c1"
      },
      "source": [
        "get_borough_name = udf(lambda properties: properties[1])\n",
        "get_borough_code = udf(lambda properties: properties[2])\n",
        "\n",
        "boroughs = boroughs\\\n",
        "    .withColumn(\n",
        "        'borough_name',\n",
        "        get_borough_name(boroughs.properties))\\\n",
        "    .withColumn(\n",
        "        'borough_code',\n",
        "        get_borough_code(boroughs.properties))\n",
        "    #.drop('properties')\n",
        "\n",
        "boroughs.limit(5).show(truncate=True)\n",
        "\n",
        "boroughs.count()"
      ],
      "execution_count": 9,
      "outputs": [
        {
          "output_type": "stream",
          "text": [
            "+--------------------+---+--------------------+-------------+------------+\n",
            "|            geometry| id|          properties| borough_name|borough_code|\n",
            "+--------------------+---+--------------------+-------------+------------+\n",
            "|{[[[-74.050508064...|  0|{http://nyc.pedia...|Staten Island|           5|\n",
            "|{[[[-74.053140368...|  1|{http://nyc.pedia...|Staten Island|           5|\n",
            "|{[[[-74.159456024...|  2|{http://nyc.pedia...|Staten Island|           5|\n",
            "|{[[[-74.082212729...|  3|{http://nyc.pedia...|Staten Island|           5|\n",
            "|{[[[-73.836682741...|  4|{http://nyc.pedia...|       Queens|           4|\n",
            "+--------------------+---+--------------------+-------------+------------+\n",
            "\n"
          ],
          "name": "stdout"
        },
        {
          "output_type": "execute_result",
          "data": {
            "text/plain": [
              "104"
            ]
          },
          "metadata": {
            "tags": []
          },
          "execution_count": 9
        }
      ]
    },
    {
      "cell_type": "markdown",
      "metadata": {
        "id": "fmZULci_kpBJ"
      },
      "source": [
        "## Sort boroughs by area"
      ]
    },
    {
      "cell_type": "code",
      "metadata": {
        "colab": {
          "base_uri": "https://localhost:8080/"
        },
        "id": "oS2QB8QFN0u6",
        "outputId": "943051e8-be31-4348-b012-94f6c72695ca"
      },
      "source": [
        "boroughs.select(\"borough_name\", \"borough_code\").distinct().show()"
      ],
      "execution_count": 10,
      "outputs": [
        {
          "output_type": "stream",
          "text": [
            "+-------------+------------+\n",
            "| borough_name|borough_code|\n",
            "+-------------+------------+\n",
            "|Staten Island|           5|\n",
            "|        Bronx|           2|\n",
            "|       Queens|           4|\n",
            "|    Manhattan|           1|\n",
            "|     Brooklyn|           3|\n",
            "+-------------+------------+\n",
            "\n"
          ],
          "name": "stdout"
        }
      ]
    },
    {
      "cell_type": "code",
      "metadata": {
        "id": "V7qVpqgcNZYK"
      },
      "source": [
        "# https://en.wikipedia.org/wiki/Boroughs_of_New_York_City\n",
        "\n",
        "def area_sort(borough_name):\n",
        "  if borough_name == \"Queens\":\n",
        "    return 1\n",
        "  if borough_name == \"Brooklyn\":\n",
        "    return 2\n",
        "  if borough_name == \"Staten Island\":\n",
        "    return 3\n",
        "  if borough_name == \"Bronx\":\n",
        "    return 4\n",
        "  if borough_name == \"Manhattan\":\n",
        "    return 5"
      ],
      "execution_count": 11,
      "outputs": []
    },
    {
      "cell_type": "code",
      "metadata": {
        "id": "F9a2RvZENZWK"
      },
      "source": [
        "area_sort_UDF = udf(lambda borough_name: area_sort(borough_name))"
      ],
      "execution_count": 12,
      "outputs": []
    },
    {
      "cell_type": "code",
      "metadata": {
        "colab": {
          "base_uri": "https://localhost:8080/"
        },
        "id": "_vgdLsPIMoIi",
        "outputId": "5fc7003e-43c1-4bee-df7f-24751a64eae0"
      },
      "source": [
        "boroughs = boroughs.withColumn(\"area_sort\", area_sort_UDF(boroughs.borough_name))\n",
        "boroughs.limit(5).show()"
      ],
      "execution_count": 13,
      "outputs": [
        {
          "output_type": "stream",
          "text": [
            "+--------------------+---+--------------------+-------------+------------+---------+\n",
            "|            geometry| id|          properties| borough_name|borough_code|area_sort|\n",
            "+--------------------+---+--------------------+-------------+------------+---------+\n",
            "|{[[[-74.050508064...|  0|{http://nyc.pedia...|Staten Island|           5|        3|\n",
            "|{[[[-74.053140368...|  1|{http://nyc.pedia...|Staten Island|           5|        3|\n",
            "|{[[[-74.159456024...|  2|{http://nyc.pedia...|Staten Island|           5|        3|\n",
            "|{[[[-74.082212729...|  3|{http://nyc.pedia...|Staten Island|           5|        3|\n",
            "|{[[[-73.836682741...|  4|{http://nyc.pedia...|       Queens|           4|        1|\n",
            "+--------------------+---+--------------------+-------------+------------+---------+\n",
            "\n"
          ],
          "name": "stdout"
        }
      ]
    },
    {
      "cell_type": "code",
      "metadata": {
        "colab": {
          "base_uri": "https://localhost:8080/"
        },
        "id": "ggWlmtjYOYlr",
        "outputId": "bea425f6-ac13-483b-d106-334ab4197723"
      },
      "source": [
        "boroughs = boroughs.sort(boroughs.area_sort.desc())\n",
        "boroughs.limit(5).show()"
      ],
      "execution_count": 14,
      "outputs": [
        {
          "output_type": "stream",
          "text": [
            "+--------------------+---+--------------------+------------+------------+---------+\n",
            "|            geometry| id|          properties|borough_name|borough_code|area_sort|\n",
            "+--------------------+---+--------------------+------------+------------+---------+\n",
            "|{[[[-74.010928412...| 45|{http://nyc.pedia...|   Manhattan|           1|        5|\n",
            "|{[[[-74.043877615...| 49|{http://nyc.pedia...|   Manhattan|           1|        5|\n",
            "|{[[[-74.005003733...| 46|{http://nyc.pedia...|   Manhattan|           1|        5|\n",
            "|{[[[-74.003820389...| 47|{http://nyc.pedia...|   Manhattan|           1|        5|\n",
            "|{[[[-74.002975654...| 48|{http://nyc.pedia...|   Manhattan|           1|        5|\n",
            "+--------------------+---+--------------------+------------+------------+---------+\n",
            "\n"
          ],
          "name": "stdout"
        }
      ]
    },
    {
      "cell_type": "markdown",
      "metadata": {
        "id": "DLHafgIFB5bU"
      },
      "source": [
        "## Create a tuple with boroughs and its polygons to be broadcasted"
      ]
    },
    {
      "cell_type": "code",
      "metadata": {
        "colab": {
          "base_uri": "https://localhost:8080/"
        },
        "id": "XzXyUo5xpOuD",
        "outputId": "13bbefab-8a96-4c54-e84b-42f81c6e5e7e"
      },
      "source": [
        "import numpy as np\n",
        "boroughs_np_array =  np.array(boroughs.select(\"geometry\", \"borough_name\").collect())"
      ],
      "execution_count": 15,
      "outputs": [
        {
          "output_type": "stream",
          "text": [
            "/usr/local/lib/python3.7/dist-packages/ipykernel_launcher.py:2: VisibleDeprecationWarning: Creating an ndarray from ragged nested sequences (which is a list-or-tuple of lists-or-tuples-or ndarrays with different lengths or shapes) is deprecated. If you meant to do this, you must specify 'dtype=object' when creating the ndarray\n",
            "  \n"
          ],
          "name": "stderr"
        }
      ]
    },
    {
      "cell_type": "code",
      "metadata": {
        "id": "uCsOLhsarddh"
      },
      "source": [
        "boroughs_tuple = ()\n",
        "\n",
        "for i in range(0, len(boroughs_np_array)):\n",
        "    coordinates_list = []\n",
        "    for j in range(0, len(boroughs_np_array[i,0][0][0])):\n",
        "      coordinates_list.append((float(boroughs_np_array[i,0][0][0][j][0]), float(boroughs_np_array[i,0][0][0][j][1])))\n",
        "    \n",
        "    # (borough_name 1, borough_polygon 1, borough_name 2, borough_polygon 2,...)\n",
        "    boroughs_tuple = boroughs_tuple + (boroughs_np_array[i,1], Polygon(coordinates_list))\n",
        "\n",
        "broadcastStates = spark.sparkContext.broadcast(boroughs_tuple)"
      ],
      "execution_count": 16,
      "outputs": []
    },
    {
      "cell_type": "markdown",
      "metadata": {
        "id": "3lHImit4kB7I"
      },
      "source": [
        "# Prepare the rides data"
      ]
    },
    {
      "cell_type": "markdown",
      "metadata": {
        "id": "tOm0hMX5GUma"
      },
      "source": [
        "## Read the data"
      ]
    },
    {
      "cell_type": "code",
      "metadata": {
        "id": "BRiJuiWzCK9v",
        "application/vnd.databricks.v1+cell": {
          "title": "",
          "showTitle": false,
          "inputWidgets": {},
          "nuid": "6f1f4d34-d652-4730-bdb2-4d598dc277ac"
        },
        "colab": {
          "base_uri": "https://localhost:8080/"
        },
        "outputId": "ea4da496-0704-459c-e975-2138732409ee"
      },
      "source": [
        "rides = spark.read\\\n",
        "               .format(\"csv\")\\\n",
        "               .option(\"header\", \"true\")\\\n",
        "               .load(\"/content/drive/MyDrive/CIT-652 - Advanced Big Data/Project 01 -  NYC Taxi Rides Utilization/sample.csv\")\n",
        "                #.load(\"/FileStore/tables/sample.csv\")\\\n",
        "\n",
        "rides.limit(5).show(truncate=False)\n",
        "\n",
        "rides.count()"
      ],
      "execution_count": 17,
      "outputs": [
        {
          "output_type": "stream",
          "text": [
            "+--------------------------------+--------------------------------+---------+---------+------------------+-------------------+-------------------+---------------+-----------------+-------------+----------------+---------------+-----------------+----------------+\n",
            "|medallion                       |hack_license                    |vendor_id|rate_code|store_and_fwd_flag|pickup_datetime    |dropoff_datetime   |passenger_count|trip_time_in_secs|trip_distance|pickup_longitude|pickup_latitude|dropoff_longitude|dropoff_latitude|\n",
            "+--------------------------------+--------------------------------+---------+---------+------------------+-------------------+-------------------+---------------+-----------------+-------------+----------------+---------------+-----------------+----------------+\n",
            "|89D227B655E5C82AECF13C3F540D4CF4|BA96DE419E711691B9445D6A6307C170|CMT      |1        |N                 |2013-01-01 15:11:48|2013-01-01 15:18:10|4              |382              |1.00         |-73.978165      |40.757977      |-73.989838       |40.751171       |\n",
            "|0BD7C8F5BA12B88E0B67BED28BEA73D8|9FD8F69F0804BDB5549F40E9DA1BE472|CMT      |1        |N                 |2013-01-06 00:18:35|2013-01-06 00:22:54|1              |259              |1.50         |-74.006683      |40.731781      |-73.994499       |40.75066        |\n",
            "|0BD7C8F5BA12B88E0B67BED28BEA73D8|9FD8F69F0804BDB5549F40E9DA1BE472|CMT      |1        |N                 |2013-01-05 18:49:41|2013-01-05 18:54:23|1              |282              |1.10         |-74.004707      |40.73777       |-74.009834       |40.726002       |\n",
            "|DFD2202EE08F7A8DC9A57B02ACB81FE2|51EE87E3205C985EF8431D850C786310|CMT      |1        |N                 |2013-01-07 23:54:15|2013-01-07 23:58:20|2              |244              |.70          |-73.974602      |40.759945      |-73.984734       |40.759388       |\n",
            "|DFD2202EE08F7A8DC9A57B02ACB81FE2|51EE87E3205C985EF8431D850C786310|CMT      |1        |N                 |2013-01-07 23:25:03|2013-01-07 23:34:24|1              |560              |2.10         |-73.97625       |40.748528      |-74.002586       |40.747868       |\n",
            "+--------------------------------+--------------------------------+---------+---------+------------------+-------------------+-------------------+---------------+-----------------+-------------+----------------+---------------+-----------------+----------------+\n",
            "\n"
          ],
          "name": "stdout"
        },
        {
          "output_type": "execute_result",
          "data": {
            "text/plain": [
              "99999"
            ]
          },
          "metadata": {
            "tags": []
          },
          "execution_count": 17
        }
      ]
    },
    {
      "cell_type": "markdown",
      "metadata": {
        "id": "L7cvZWkIkOh-"
      },
      "source": [
        "## Remove Trips with negative time or more then 4 hours"
      ]
    },
    {
      "cell_type": "code",
      "metadata": {
        "colab": {
          "base_uri": "https://localhost:8080/"
        },
        "id": "pw9e7uVJl0A4",
        "outputId": "41b7aa07-aaf5-4f58-e2e5-44ff5ff0a5b1"
      },
      "source": [
        "rides = rides.where(\"trip_time_in_secs BETWEEN 1 AND 14400\")\n",
        "rides.count()"
      ],
      "execution_count": 18,
      "outputs": [
        {
          "output_type": "execute_result",
          "data": {
            "text/plain": [
              "99550"
            ]
          },
          "metadata": {
            "tags": []
          },
          "execution_count": 18
        }
      ]
    },
    {
      "cell_type": "markdown",
      "metadata": {
        "id": "Kii4ynNPmYx4"
      },
      "source": [
        "## Keep the needed columns only"
      ]
    },
    {
      "cell_type": "code",
      "metadata": {
        "colab": {
          "base_uri": "https://localhost:8080/"
        },
        "id": "aZV2cPIjlwWR",
        "outputId": "1ac330bc-e4a9-4905-acb6-2633d14d4ac1"
      },
      "source": [
        "rides = rides.drop(\"hack_license\", \"vendor_id\", \"rate_code\", \"store_and_fwd_flag\", \"passenger_count\", \"trip_distance\", \"dropoff_datetime\")\n",
        "rides.limit(5).show(truncate=False)"
      ],
      "execution_count": 19,
      "outputs": [
        {
          "output_type": "stream",
          "text": [
            "+--------------------------------+-------------------+-----------------+----------------+---------------+-----------------+----------------+\n",
            "|medallion                       |pickup_datetime    |trip_time_in_secs|pickup_longitude|pickup_latitude|dropoff_longitude|dropoff_latitude|\n",
            "+--------------------------------+-------------------+-----------------+----------------+---------------+-----------------+----------------+\n",
            "|89D227B655E5C82AECF13C3F540D4CF4|2013-01-01 15:11:48|382              |-73.978165      |40.757977      |-73.989838       |40.751171       |\n",
            "|0BD7C8F5BA12B88E0B67BED28BEA73D8|2013-01-06 00:18:35|259              |-74.006683      |40.731781      |-73.994499       |40.75066        |\n",
            "|0BD7C8F5BA12B88E0B67BED28BEA73D8|2013-01-05 18:49:41|282              |-74.004707      |40.73777       |-74.009834       |40.726002       |\n",
            "|DFD2202EE08F7A8DC9A57B02ACB81FE2|2013-01-07 23:54:15|244              |-73.974602      |40.759945      |-73.984734       |40.759388       |\n",
            "|DFD2202EE08F7A8DC9A57B02ACB81FE2|2013-01-07 23:25:03|560              |-73.97625       |40.748528      |-74.002586       |40.747868       |\n",
            "+--------------------------------+-------------------+-----------------+----------------+---------------+-----------------+----------------+\n",
            "\n"
          ],
          "name": "stdout"
        }
      ]
    },
    {
      "cell_type": "markdown",
      "metadata": {
        "id": "W8WNRbcVnasu"
      },
      "source": [
        "## Get pickup time in UNIX timestamp"
      ]
    },
    {
      "cell_type": "code",
      "metadata": {
        "colab": {
          "base_uri": "https://localhost:8080/"
        },
        "id": "FMWqenKzoCzj",
        "outputId": "7bb7fb8f-da0c-4acb-d5a1-1674f82ba2c5"
      },
      "source": [
        "from pyspark.sql.functions import unix_timestamp\n",
        "\n",
        "rides = rides\\\n",
        "    .withColumn(\n",
        "        'pickup_sec',\n",
        "        unix_timestamp(rides.pickup_datetime))\n",
        "    #.drop(\"pickup_datetime\")\n",
        "\n",
        "rides.limit(5).show(truncate=True)"
      ],
      "execution_count": 20,
      "outputs": [
        {
          "output_type": "stream",
          "text": [
            "+--------------------+-------------------+-----------------+----------------+---------------+-----------------+----------------+----------+\n",
            "|           medallion|    pickup_datetime|trip_time_in_secs|pickup_longitude|pickup_latitude|dropoff_longitude|dropoff_latitude|pickup_sec|\n",
            "+--------------------+-------------------+-----------------+----------------+---------------+-----------------+----------------+----------+\n",
            "|89D227B655E5C82AE...|2013-01-01 15:11:48|              382|      -73.978165|      40.757977|       -73.989838|       40.751171|1357053108|\n",
            "|0BD7C8F5BA12B88E0...|2013-01-06 00:18:35|              259|      -74.006683|      40.731781|       -73.994499|        40.75066|1357431515|\n",
            "|0BD7C8F5BA12B88E0...|2013-01-05 18:49:41|              282|      -74.004707|       40.73777|       -74.009834|       40.726002|1357411781|\n",
            "|DFD2202EE08F7A8DC...|2013-01-07 23:54:15|              244|      -73.974602|      40.759945|       -73.984734|       40.759388|1357602855|\n",
            "|DFD2202EE08F7A8DC...|2013-01-07 23:25:03|              560|       -73.97625|      40.748528|       -74.002586|       40.747868|1357601103|\n",
            "+--------------------+-------------------+-----------------+----------------+---------------+-----------------+----------------+----------+\n",
            "\n"
          ],
          "name": "stdout"
        }
      ]
    },
    {
      "cell_type": "markdown",
      "metadata": {
        "id": "SVrvioc80c6T"
      },
      "source": [
        "## Get next trip time"
      ]
    },
    {
      "cell_type": "code",
      "metadata": {
        "colab": {
          "base_uri": "https://localhost:8080/"
        },
        "id": "qxp-xm36oCsi",
        "outputId": "32a90dd1-8465-4175-e294-10048f7623f8"
      },
      "source": [
        "windowSpec  = Window.partitionBy(\"medallion\").orderBy(\"pickup_sec\")\n",
        "\n",
        "rides = rides.withColumn(\n",
        "    'next_trip_pickup_sec',\n",
        "    lead(\"pickup_sec\", 1).over(windowSpec)\n",
        "    )\n",
        "\n",
        "rides = rides.drop(\"pickup_datetime\")\n",
        "\n",
        "rides.limit(5).show(truncate=False)"
      ],
      "execution_count": 21,
      "outputs": [
        {
          "output_type": "stream",
          "text": [
            "+--------------------------------+-----------------+----------------+---------------+-----------------+----------------+----------+--------------------+\n",
            "|medallion                       |trip_time_in_secs|pickup_longitude|pickup_latitude|dropoff_longitude|dropoff_latitude|pickup_sec|next_trip_pickup_sec|\n",
            "+--------------------------------+-----------------+----------------+---------------+-----------------+----------------+----------+--------------------+\n",
            "|0F621E366CFE63044BFED29EA126CDB9|960              |-73.932121      |40.857803      |-73.940109       |40.815514       |1358051460|1358060220          |\n",
            "|0F621E366CFE63044BFED29EA126CDB9|720              |-73.951736      |40.78183       |-74.000549       |40.755203       |1358060220|1358061060          |\n",
            "|0F621E366CFE63044BFED29EA126CDB9|420              |-74.004158      |40.75296       |-73.975716       |40.796326       |1358061060|1358063160          |\n",
            "|0F621E366CFE63044BFED29EA126CDB9|960              |-73.988029      |40.754784      |-73.97184        |40.679226       |1358063160|1358065320          |\n",
            "|0F621E366CFE63044BFED29EA126CDB9|240              |-73.978165      |40.745846      |-73.984222       |40.752197       |1358065320|1358069340          |\n",
            "+--------------------------------+-----------------+----------------+---------------+-----------------+----------------+----------+--------------------+\n",
            "\n"
          ],
          "name": "stdout"
        }
      ]
    },
    {
      "cell_type": "markdown",
      "metadata": {
        "id": "nEPkgbgE3yQk"
      },
      "source": [
        "## Romeve idle time with more that 4 hours"
      ]
    },
    {
      "cell_type": "code",
      "metadata": {
        "colab": {
          "base_uri": "https://localhost:8080/"
        },
        "id": "Tp1pnyJi3xlU",
        "outputId": "9149be67-2bc0-4f3c-c3b2-03b9f88970d1"
      },
      "source": [
        "rides = rides.withColumn(\n",
        "                \"idle_time_sec\",\n",
        "                rides.next_trip_pickup_sec - rides.pickup_sec - rides.trip_time_in_secs\n",
        "              )\n",
        "\n",
        "rides = rides.withColumn(\n",
        "                \"idle_time_mins\",\n",
        "                rides.idle_time_sec/60\n",
        "              )\n",
        "\n",
        "rides = rides.where(\"idle_time_sec BETWEEN 0 AND 14400\")\n",
        "\n",
        "rides = rides.drop(\"pickup_sec\", \"next_trip_pickup_sec\", \"trip_time_in_secs\")\n",
        "\n",
        "rides.limit(5).show()\n",
        "\n",
        "rides.count()"
      ],
      "execution_count": 22,
      "outputs": [
        {
          "output_type": "stream",
          "text": [
            "+--------------------+----------------+---------------+-----------------+----------------+-------------+--------------+\n",
            "|           medallion|pickup_longitude|pickup_latitude|dropoff_longitude|dropoff_latitude|idle_time_sec|idle_time_mins|\n",
            "+--------------------+----------------+---------------+-----------------+----------------+-------------+--------------+\n",
            "|0F621E366CFE63044...|      -73.932121|      40.857803|       -73.940109|       40.815514|       7800.0|         130.0|\n",
            "|0F621E366CFE63044...|      -73.951736|       40.78183|       -74.000549|       40.755203|        120.0|           2.0|\n",
            "|0F621E366CFE63044...|      -74.004158|       40.75296|       -73.975716|       40.796326|       1680.0|          28.0|\n",
            "|0F621E366CFE63044...|      -73.988029|      40.754784|        -73.97184|       40.679226|       1200.0|          20.0|\n",
            "|0F621E366CFE63044...|      -73.978165|      40.745846|       -73.984222|       40.752197|       3780.0|          63.0|\n",
            "+--------------------+----------------+---------------+-----------------+----------------+-------------+--------------+\n",
            "\n"
          ],
          "name": "stdout"
        },
        {
          "output_type": "execute_result",
          "data": {
            "text/plain": [
              "90420"
            ]
          },
          "metadata": {
            "tags": []
          },
          "execution_count": 22
        }
      ]
    },
    {
      "cell_type": "markdown",
      "metadata": {
        "id": "Db2kh9ZT4ZGN"
      },
      "source": [
        "# Prepare the master dataframe (boroughs & rides)"
      ]
    },
    {
      "cell_type": "markdown",
      "metadata": {
        "id": "YA5NztRkHcsT"
      },
      "source": [
        "## Create the needed functions"
      ]
    },
    {
      "cell_type": "code",
      "metadata": {
        "id": "cOcELCCBvkqL"
      },
      "source": [
        "def get_borough(longitude, latitude):\n",
        "  \"\"\"\n",
        "    This function get the borough name of a point with the parameters (longitude, latitude) from the broadcasted polygons tubles\n",
        "    It returns the name of the name of the borough is available\n",
        "  \"\"\"\n",
        "  i = 0\n",
        "  while i < len(boroughs_tuple):\n",
        "    if Point(float(longitude), float(latitude)).within(boroughs_tuple[i+1]):\n",
        "      return boroughs_tuple[i]\n",
        "    i = i + 2"
      ],
      "execution_count": 23,
      "outputs": []
    },
    {
      "cell_type": "code",
      "metadata": {
        "id": "MbHk4PdgGc3X"
      },
      "source": [
        "get_borough_udf = udf(lambda longitude, latitude: get_borough(longitude, latitude))"
      ],
      "execution_count": 24,
      "outputs": []
    },
    {
      "cell_type": "markdown",
      "metadata": {
        "id": "GSfgwJy4HEcO"
      },
      "source": [
        "## Add origin borough"
      ]
    },
    {
      "cell_type": "code",
      "metadata": {
        "id": "imlrbNSjGecE"
      },
      "source": [
        "rides = rides.withColumn(\"from_borough\", get_borough_udf(rides.pickup_longitude, rides.pickup_latitude))"
      ],
      "execution_count": 25,
      "outputs": []
    },
    {
      "cell_type": "markdown",
      "metadata": {
        "id": "FfxVRPcRHJ3G"
      },
      "source": [
        "## Add destination borough"
      ]
    },
    {
      "cell_type": "code",
      "metadata": {
        "id": "BTZiDzEHGe-6"
      },
      "source": [
        "rides = rides.withColumn(\"to_borough\", get_borough_udf(rides.dropoff_longitude, rides.dropoff_latitude))"
      ],
      "execution_count": 26,
      "outputs": []
    },
    {
      "cell_type": "markdown",
      "metadata": {
        "id": "H1V6G9LxIu6q"
      },
      "source": [
        "## Check rides with unknown origin/destination"
      ]
    },
    {
      "cell_type": "code",
      "metadata": {
        "colab": {
          "base_uri": "https://localhost:8080/"
        },
        "id": "PX0TjxXyIuSV",
        "outputId": "0b1fb074-712f-46d6-8a35-beea058260a9"
      },
      "source": [
        "rides.filter(\"from_borough is NULL\").count()"
      ],
      "execution_count": 27,
      "outputs": [
        {
          "output_type": "execute_result",
          "data": {
            "text/plain": [
              "1459"
            ]
          },
          "metadata": {
            "tags": []
          },
          "execution_count": 27
        }
      ]
    },
    {
      "cell_type": "code",
      "metadata": {
        "colab": {
          "base_uri": "https://localhost:8080/"
        },
        "id": "BnXeSrdCKzwy",
        "outputId": "bb35310e-3fda-4d46-f154-722644487055"
      },
      "source": [
        "rides.filter(\"to_borough is NULL\").count()"
      ],
      "execution_count": 28,
      "outputs": [
        {
          "output_type": "execute_result",
          "data": {
            "text/plain": [
              "1775"
            ]
          },
          "metadata": {
            "tags": []
          },
          "execution_count": 28
        }
      ]
    },
    {
      "cell_type": "markdown",
      "metadata": {
        "id": "WZRvPtMfJyFq"
      },
      "source": [
        "## Drop the rides with unknown origin/destination"
      ]
    },
    {
      "cell_type": "code",
      "metadata": {
        "id": "gWHDhpyOJ5OB"
      },
      "source": [
        "rides = rides.filter(\"from_borough IS NOT NULL AND to_borough IS NOT NULL\")"
      ],
      "execution_count": 29,
      "outputs": []
    },
    {
      "cell_type": "markdown",
      "metadata": {
        "id": "9ZpzmBOrHPw7"
      },
      "source": [
        "## Select the needed columns"
      ]
    },
    {
      "cell_type": "code",
      "metadata": {
        "colab": {
          "base_uri": "https://localhost:8080/"
        },
        "id": "4iXhvOh8Ge8y",
        "outputId": "33de6e6d-10de-4e3c-86d1-9183579c0f45"
      },
      "source": [
        "rides.columns"
      ],
      "execution_count": 30,
      "outputs": [
        {
          "output_type": "execute_result",
          "data": {
            "text/plain": [
              "['medallion',\n",
              " 'pickup_longitude',\n",
              " 'pickup_latitude',\n",
              " 'dropoff_longitude',\n",
              " 'dropoff_latitude',\n",
              " 'idle_time_sec',\n",
              " 'idle_time_mins',\n",
              " 'from_borough',\n",
              " 'to_borough']"
            ]
          },
          "metadata": {
            "tags": []
          },
          "execution_count": 30
        }
      ]
    },
    {
      "cell_type": "code",
      "metadata": {
        "id": "0rrsDsBtSrAB"
      },
      "source": [
        "data = rides.select(\"idle_time_mins\", \"from_borough\", \"to_borough\")\n",
        "data.limit(5).show()\n",
        "data.count()"
      ],
      "execution_count": null,
      "outputs": []
    },
    {
      "cell_type": "markdown",
      "metadata": {
        "id": "Dy1rFD5TG281"
      },
      "source": [
        "# Tasks solutions"
      ]
    },
    {
      "cell_type": "markdown",
      "metadata": {
        "id": "yMnCX-y---vG"
      },
      "source": [
        "## Task 01: The average time it takes for taxi to find it next trip per destination borough"
      ]
    },
    {
      "cell_type": "code",
      "metadata": {
        "id": "5bfi-gicSnyY"
      },
      "source": [
        "data.groupBy(\"to_borough\").avg(\"idle_time_mins\").show()"
      ],
      "execution_count": null,
      "outputs": []
    },
    {
      "cell_type": "markdown",
      "metadata": {
        "id": "onVDCpVJ_CSW"
      },
      "source": [
        "## Task 02: The number of trips that started and ended within same borough"
      ]
    },
    {
      "cell_type": "code",
      "metadata": {
        "id": "QmZEIh2H_LEY"
      },
      "source": [
        "data.where(\"from_borough = to_borough\").count()"
      ],
      "execution_count": null,
      "outputs": []
    },
    {
      "cell_type": "markdown",
      "metadata": {
        "id": "6hD73sae_BSx"
      },
      "source": [
        "## Task 03: The number of trips that start in one borough and ended in another one\n"
      ]
    },
    {
      "cell_type": "code",
      "metadata": {
        "id": "SIJ1Uj3T_Jw_"
      },
      "source": [
        "data.where(\"from_borough <> to_borough\").count()"
      ],
      "execution_count": null,
      "outputs": []
    },
    {
      "cell_type": "code",
      "metadata": {
        "id": "Z5tRnWSoN8WQ"
      },
      "source": [
        ""
      ],
      "execution_count": null,
      "outputs": []
    }
  ]
}